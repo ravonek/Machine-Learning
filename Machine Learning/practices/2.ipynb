{
 "cells": [
  {
   "cell_type": "code",
   "execution_count": 2,
   "metadata": {},
   "outputs": [],
   "source": [
    "import pandas as pd "
   ]
  },
  {
   "cell_type": "code",
   "execution_count": 3,
   "metadata": {},
   "outputs": [],
   "source": [
    "df = pd.DataFrame(\n",
    "    [[1, 100, 10, 'OOC'],\n",
    "    [2, 200, 30, 'TTL'],\n",
    "    [3, 123, 11, 'OOC'],\n",
    "    [4, 400, 99, 'SJO']], \n",
    "    columns = ['orderID', 'componentA','componentB','customer'])"
   ]
  },
  {
   "cell_type": "code",
   "execution_count": 4,
   "metadata": {},
   "outputs": [],
   "source": [
    "df['price'] = 0"
   ]
  },
  {
   "cell_type": "code",
   "execution_count": 5,
   "metadata": {},
   "outputs": [
    {
     "data": {
      "text/html": [
       "<div>\n",
       "<style scoped>\n",
       "    .dataframe tbody tr th:only-of-type {\n",
       "        vertical-align: middle;\n",
       "    }\n",
       "\n",
       "    .dataframe tbody tr th {\n",
       "        vertical-align: top;\n",
       "    }\n",
       "\n",
       "    .dataframe thead th {\n",
       "        text-align: right;\n",
       "    }\n",
       "</style>\n",
       "<table border=\"1\" class=\"dataframe\">\n",
       "  <thead>\n",
       "    <tr style=\"text-align: right;\">\n",
       "      <th></th>\n",
       "      <th>orderID</th>\n",
       "      <th>componentA</th>\n",
       "      <th>componentB</th>\n",
       "      <th>customer</th>\n",
       "      <th>price</th>\n",
       "    </tr>\n",
       "  </thead>\n",
       "  <tbody>\n",
       "    <tr>\n",
       "      <th>0</th>\n",
       "      <td>1</td>\n",
       "      <td>100</td>\n",
       "      <td>10</td>\n",
       "      <td>OOC</td>\n",
       "      <td>0</td>\n",
       "    </tr>\n",
       "    <tr>\n",
       "      <th>1</th>\n",
       "      <td>2</td>\n",
       "      <td>200</td>\n",
       "      <td>30</td>\n",
       "      <td>TTL</td>\n",
       "      <td>0</td>\n",
       "    </tr>\n",
       "    <tr>\n",
       "      <th>2</th>\n",
       "      <td>3</td>\n",
       "      <td>123</td>\n",
       "      <td>11</td>\n",
       "      <td>OOC</td>\n",
       "      <td>0</td>\n",
       "    </tr>\n",
       "    <tr>\n",
       "      <th>3</th>\n",
       "      <td>4</td>\n",
       "      <td>400</td>\n",
       "      <td>99</td>\n",
       "      <td>SJO</td>\n",
       "      <td>0</td>\n",
       "    </tr>\n",
       "  </tbody>\n",
       "</table>\n",
       "</div>"
      ],
      "text/plain": [
       "   orderID  componentA  componentB customer  price\n",
       "0        1         100          10      OOC      0\n",
       "1        2         200          30      TTL      0\n",
       "2        3         123          11      OOC      0\n",
       "3        4         400          99      SJO      0"
      ]
     },
     "execution_count": 5,
     "metadata": {},
     "output_type": "execute_result"
    }
   ],
   "source": [
    "df\n"
   ]
  },
  {
   "cell_type": "code",
   "execution_count": 6,
   "metadata": {},
   "outputs": [],
   "source": [
    "priceA = 10\n",
    "priceB = 15"
   ]
  },
  {
   "cell_type": "code",
   "execution_count": 7,
   "metadata": {},
   "outputs": [],
   "source": [
    "df['price'] = df['componentA'] * priceA + df['componentB'] * priceB"
   ]
  },
  {
   "cell_type": "code",
   "execution_count": 8,
   "metadata": {},
   "outputs": [
    {
     "data": {
      "text/html": [
       "<div>\n",
       "<style scoped>\n",
       "    .dataframe tbody tr th:only-of-type {\n",
       "        vertical-align: middle;\n",
       "    }\n",
       "\n",
       "    .dataframe tbody tr th {\n",
       "        vertical-align: top;\n",
       "    }\n",
       "\n",
       "    .dataframe thead th {\n",
       "        text-align: right;\n",
       "    }\n",
       "</style>\n",
       "<table border=\"1\" class=\"dataframe\">\n",
       "  <thead>\n",
       "    <tr style=\"text-align: right;\">\n",
       "      <th></th>\n",
       "      <th>orderID</th>\n",
       "      <th>componentA</th>\n",
       "      <th>componentB</th>\n",
       "      <th>customer</th>\n",
       "      <th>price</th>\n",
       "    </tr>\n",
       "  </thead>\n",
       "  <tbody>\n",
       "    <tr>\n",
       "      <th>0</th>\n",
       "      <td>1</td>\n",
       "      <td>100</td>\n",
       "      <td>10</td>\n",
       "      <td>OOC</td>\n",
       "      <td>1150</td>\n",
       "    </tr>\n",
       "    <tr>\n",
       "      <th>1</th>\n",
       "      <td>2</td>\n",
       "      <td>200</td>\n",
       "      <td>30</td>\n",
       "      <td>TTL</td>\n",
       "      <td>2450</td>\n",
       "    </tr>\n",
       "    <tr>\n",
       "      <th>2</th>\n",
       "      <td>3</td>\n",
       "      <td>123</td>\n",
       "      <td>11</td>\n",
       "      <td>OOC</td>\n",
       "      <td>1395</td>\n",
       "    </tr>\n",
       "    <tr>\n",
       "      <th>3</th>\n",
       "      <td>4</td>\n",
       "      <td>400</td>\n",
       "      <td>99</td>\n",
       "      <td>SJO</td>\n",
       "      <td>5485</td>\n",
       "    </tr>\n",
       "  </tbody>\n",
       "</table>\n",
       "</div>"
      ],
      "text/plain": [
       "   orderID  componentA  componentB customer  price\n",
       "0        1         100          10      OOC   1150\n",
       "1        2         200          30      TTL   2450\n",
       "2        3         123          11      OOC   1395\n",
       "3        4         400          99      SJO   5485"
      ]
     },
     "execution_count": 8,
     "metadata": {},
     "output_type": "execute_result"
    }
   ],
   "source": [
    "df"
   ]
  },
  {
   "cell_type": "code",
   "execution_count": 9,
   "metadata": {},
   "outputs": [
    {
     "data": {
      "text/plain": [
       "np.float64(2545.0)"
      ]
     },
     "execution_count": 9,
     "metadata": {},
     "output_type": "execute_result"
    }
   ],
   "source": [
    "df['price'].where(~(df['customer'] != 'OOC')).sum()"
   ]
  },
  {
   "cell_type": "code",
   "execution_count": 10,
   "metadata": {},
   "outputs": [
    {
     "data": {
      "text/plain": [
       "np.int64(2545)"
      ]
     },
     "execution_count": 10,
     "metadata": {},
     "output_type": "execute_result"
    }
   ],
   "source": [
    "df.loc[df['customer'] == 'OOC', 'price'].sum()\n"
   ]
  },
  {
   "cell_type": "code",
   "execution_count": 11,
   "metadata": {},
   "outputs": [
    {
     "data": {
      "text/plain": [
       "np.float64(205.75)"
      ]
     },
     "execution_count": 11,
     "metadata": {},
     "output_type": "execute_result"
    }
   ],
   "source": [
    "df['componentA'].mean()"
   ]
  },
  {
   "cell_type": "code",
   "execution_count": 13,
   "metadata": {},
   "outputs": [],
   "source": [
    "dfA = pd.DataFrame({'CustomerName':['Livia','Lias','Hans'],'Age':[33,30,29]})\n",
    "dfB = pd.DataFrame({'Name':['Livia','Lias','Anja','Jens'],'Size':[175,185,177,165]})\n",
    "df_joined=dfA.set_index('CustomerName').join(dfB.set_index('Name'),how='outer')\n",
    "df_final=df_joined.reset_index()"
   ]
  },
  {
   "cell_type": "code",
   "execution_count": 14,
   "metadata": {},
   "outputs": [
    {
     "data": {
      "text/html": [
       "<div>\n",
       "<style scoped>\n",
       "    .dataframe tbody tr th:only-of-type {\n",
       "        vertical-align: middle;\n",
       "    }\n",
       "\n",
       "    .dataframe tbody tr th {\n",
       "        vertical-align: top;\n",
       "    }\n",
       "\n",
       "    .dataframe thead th {\n",
       "        text-align: right;\n",
       "    }\n",
       "</style>\n",
       "<table border=\"1\" class=\"dataframe\">\n",
       "  <thead>\n",
       "    <tr style=\"text-align: right;\">\n",
       "      <th></th>\n",
       "      <th>CustomerName</th>\n",
       "      <th>Age</th>\n",
       "    </tr>\n",
       "  </thead>\n",
       "  <tbody>\n",
       "    <tr>\n",
       "      <th>0</th>\n",
       "      <td>Livia</td>\n",
       "      <td>33</td>\n",
       "    </tr>\n",
       "    <tr>\n",
       "      <th>1</th>\n",
       "      <td>Lias</td>\n",
       "      <td>30</td>\n",
       "    </tr>\n",
       "    <tr>\n",
       "      <th>2</th>\n",
       "      <td>Hans</td>\n",
       "      <td>29</td>\n",
       "    </tr>\n",
       "  </tbody>\n",
       "</table>\n",
       "</div>"
      ],
      "text/plain": [
       "  CustomerName  Age\n",
       "0        Livia   33\n",
       "1         Lias   30\n",
       "2         Hans   29"
      ]
     },
     "execution_count": 14,
     "metadata": {},
     "output_type": "execute_result"
    }
   ],
   "source": [
    "dfA"
   ]
  },
  {
   "cell_type": "code",
   "execution_count": 15,
   "metadata": {},
   "outputs": [
    {
     "data": {
      "text/html": [
       "<div>\n",
       "<style scoped>\n",
       "    .dataframe tbody tr th:only-of-type {\n",
       "        vertical-align: middle;\n",
       "    }\n",
       "\n",
       "    .dataframe tbody tr th {\n",
       "        vertical-align: top;\n",
       "    }\n",
       "\n",
       "    .dataframe thead th {\n",
       "        text-align: right;\n",
       "    }\n",
       "</style>\n",
       "<table border=\"1\" class=\"dataframe\">\n",
       "  <thead>\n",
       "    <tr style=\"text-align: right;\">\n",
       "      <th></th>\n",
       "      <th>Name</th>\n",
       "      <th>Size</th>\n",
       "    </tr>\n",
       "  </thead>\n",
       "  <tbody>\n",
       "    <tr>\n",
       "      <th>0</th>\n",
       "      <td>Livia</td>\n",
       "      <td>175</td>\n",
       "    </tr>\n",
       "    <tr>\n",
       "      <th>1</th>\n",
       "      <td>Lias</td>\n",
       "      <td>185</td>\n",
       "    </tr>\n",
       "    <tr>\n",
       "      <th>2</th>\n",
       "      <td>Anja</td>\n",
       "      <td>177</td>\n",
       "    </tr>\n",
       "    <tr>\n",
       "      <th>3</th>\n",
       "      <td>Jens</td>\n",
       "      <td>165</td>\n",
       "    </tr>\n",
       "  </tbody>\n",
       "</table>\n",
       "</div>"
      ],
      "text/plain": [
       "    Name  Size\n",
       "0  Livia   175\n",
       "1   Lias   185\n",
       "2   Anja   177\n",
       "3   Jens   165"
      ]
     },
     "execution_count": 15,
     "metadata": {},
     "output_type": "execute_result"
    }
   ],
   "source": [
    "dfB"
   ]
  },
  {
   "cell_type": "code",
   "execution_count": 16,
   "metadata": {},
   "outputs": [
    {
     "data": {
      "text/html": [
       "<div>\n",
       "<style scoped>\n",
       "    .dataframe tbody tr th:only-of-type {\n",
       "        vertical-align: middle;\n",
       "    }\n",
       "\n",
       "    .dataframe tbody tr th {\n",
       "        vertical-align: top;\n",
       "    }\n",
       "\n",
       "    .dataframe thead th {\n",
       "        text-align: right;\n",
       "    }\n",
       "</style>\n",
       "<table border=\"1\" class=\"dataframe\">\n",
       "  <thead>\n",
       "    <tr style=\"text-align: right;\">\n",
       "      <th></th>\n",
       "      <th>Age</th>\n",
       "      <th>Size</th>\n",
       "    </tr>\n",
       "  </thead>\n",
       "  <tbody>\n",
       "    <tr>\n",
       "      <th>Anja</th>\n",
       "      <td>NaN</td>\n",
       "      <td>177.0</td>\n",
       "    </tr>\n",
       "    <tr>\n",
       "      <th>Hans</th>\n",
       "      <td>29.0</td>\n",
       "      <td>NaN</td>\n",
       "    </tr>\n",
       "    <tr>\n",
       "      <th>Jens</th>\n",
       "      <td>NaN</td>\n",
       "      <td>165.0</td>\n",
       "    </tr>\n",
       "    <tr>\n",
       "      <th>Lias</th>\n",
       "      <td>30.0</td>\n",
       "      <td>185.0</td>\n",
       "    </tr>\n",
       "    <tr>\n",
       "      <th>Livia</th>\n",
       "      <td>33.0</td>\n",
       "      <td>175.0</td>\n",
       "    </tr>\n",
       "  </tbody>\n",
       "</table>\n",
       "</div>"
      ],
      "text/plain": [
       "        Age   Size\n",
       "Anja    NaN  177.0\n",
       "Hans   29.0    NaN\n",
       "Jens    NaN  165.0\n",
       "Lias   30.0  185.0\n",
       "Livia  33.0  175.0"
      ]
     },
     "execution_count": 16,
     "metadata": {},
     "output_type": "execute_result"
    }
   ],
   "source": [
    "df_joined"
   ]
  },
  {
   "cell_type": "code",
   "execution_count": 17,
   "metadata": {},
   "outputs": [
    {
     "data": {
      "text/html": [
       "<div>\n",
       "<style scoped>\n",
       "    .dataframe tbody tr th:only-of-type {\n",
       "        vertical-align: middle;\n",
       "    }\n",
       "\n",
       "    .dataframe tbody tr th {\n",
       "        vertical-align: top;\n",
       "    }\n",
       "\n",
       "    .dataframe thead th {\n",
       "        text-align: right;\n",
       "    }\n",
       "</style>\n",
       "<table border=\"1\" class=\"dataframe\">\n",
       "  <thead>\n",
       "    <tr style=\"text-align: right;\">\n",
       "      <th></th>\n",
       "      <th>index</th>\n",
       "      <th>Age</th>\n",
       "      <th>Size</th>\n",
       "    </tr>\n",
       "  </thead>\n",
       "  <tbody>\n",
       "    <tr>\n",
       "      <th>0</th>\n",
       "      <td>Anja</td>\n",
       "      <td>NaN</td>\n",
       "      <td>177.0</td>\n",
       "    </tr>\n",
       "    <tr>\n",
       "      <th>1</th>\n",
       "      <td>Hans</td>\n",
       "      <td>29.0</td>\n",
       "      <td>NaN</td>\n",
       "    </tr>\n",
       "    <tr>\n",
       "      <th>2</th>\n",
       "      <td>Jens</td>\n",
       "      <td>NaN</td>\n",
       "      <td>165.0</td>\n",
       "    </tr>\n",
       "    <tr>\n",
       "      <th>3</th>\n",
       "      <td>Lias</td>\n",
       "      <td>30.0</td>\n",
       "      <td>185.0</td>\n",
       "    </tr>\n",
       "    <tr>\n",
       "      <th>4</th>\n",
       "      <td>Livia</td>\n",
       "      <td>33.0</td>\n",
       "      <td>175.0</td>\n",
       "    </tr>\n",
       "  </tbody>\n",
       "</table>\n",
       "</div>"
      ],
      "text/plain": [
       "   index   Age   Size\n",
       "0   Anja   NaN  177.0\n",
       "1   Hans  29.0    NaN\n",
       "2   Jens   NaN  165.0\n",
       "3   Lias  30.0  185.0\n",
       "4  Livia  33.0  175.0"
      ]
     },
     "execution_count": 17,
     "metadata": {},
     "output_type": "execute_result"
    }
   ],
   "source": [
    "df_final"
   ]
  },
  {
   "cell_type": "code",
   "execution_count": 20,
   "metadata": {},
   "outputs": [
    {
     "data": {
      "text/html": [
       "<div>\n",
       "<style scoped>\n",
       "    .dataframe tbody tr th:only-of-type {\n",
       "        vertical-align: middle;\n",
       "    }\n",
       "\n",
       "    .dataframe tbody tr th {\n",
       "        vertical-align: top;\n",
       "    }\n",
       "\n",
       "    .dataframe thead th {\n",
       "        text-align: right;\n",
       "    }\n",
       "</style>\n",
       "<table border=\"1\" class=\"dataframe\">\n",
       "  <thead>\n",
       "    <tr style=\"text-align: right;\">\n",
       "      <th></th>\n",
       "      <th>index</th>\n",
       "      <th>Age</th>\n",
       "      <th>Size</th>\n",
       "    </tr>\n",
       "  </thead>\n",
       "  <tbody>\n",
       "    <tr>\n",
       "      <th>3</th>\n",
       "      <td>Lias</td>\n",
       "      <td>30.0</td>\n",
       "      <td>185.0</td>\n",
       "    </tr>\n",
       "    <tr>\n",
       "      <th>4</th>\n",
       "      <td>Livia</td>\n",
       "      <td>33.0</td>\n",
       "      <td>175.0</td>\n",
       "    </tr>\n",
       "  </tbody>\n",
       "</table>\n",
       "</div>"
      ],
      "text/plain": [
       "   index   Age   Size\n",
       "3   Lias  30.0  185.0\n",
       "4  Livia  33.0  175.0"
      ]
     },
     "execution_count": 20,
     "metadata": {},
     "output_type": "execute_result"
    }
   ],
   "source": [
    "df_final.dropna()"
   ]
  },
  {
   "cell_type": "code",
   "execution_count": 19,
   "metadata": {},
   "outputs": [
    {
     "data": {
      "text/html": [
       "<div>\n",
       "<style scoped>\n",
       "    .dataframe tbody tr th:only-of-type {\n",
       "        vertical-align: middle;\n",
       "    }\n",
       "\n",
       "    .dataframe tbody tr th {\n",
       "        vertical-align: top;\n",
       "    }\n",
       "\n",
       "    .dataframe thead th {\n",
       "        text-align: right;\n",
       "    }\n",
       "</style>\n",
       "<table border=\"1\" class=\"dataframe\">\n",
       "  <thead>\n",
       "    <tr style=\"text-align: right;\">\n",
       "      <th></th>\n",
       "      <th>index</th>\n",
       "      <th>Age</th>\n",
       "      <th>Size</th>\n",
       "    </tr>\n",
       "  </thead>\n",
       "  <tbody>\n",
       "    <tr>\n",
       "      <th>0</th>\n",
       "      <td>Anja</td>\n",
       "      <td>NaN</td>\n",
       "      <td>177.0</td>\n",
       "    </tr>\n",
       "    <tr>\n",
       "      <th>1</th>\n",
       "      <td>Hans</td>\n",
       "      <td>29.0</td>\n",
       "      <td>NaN</td>\n",
       "    </tr>\n",
       "    <tr>\n",
       "      <th>2</th>\n",
       "      <td>Jens</td>\n",
       "      <td>NaN</td>\n",
       "      <td>165.0</td>\n",
       "    </tr>\n",
       "    <tr>\n",
       "      <th>3</th>\n",
       "      <td>Lias</td>\n",
       "      <td>30.0</td>\n",
       "      <td>185.0</td>\n",
       "    </tr>\n",
       "    <tr>\n",
       "      <th>4</th>\n",
       "      <td>Livia</td>\n",
       "      <td>33.0</td>\n",
       "      <td>175.0</td>\n",
       "    </tr>\n",
       "  </tbody>\n",
       "</table>\n",
       "</div>"
      ],
      "text/plain": [
       "   index   Age   Size\n",
       "0   Anja   NaN  177.0\n",
       "1   Hans  29.0    NaN\n",
       "2   Jens   NaN  165.0\n",
       "3   Lias  30.0  185.0\n",
       "4  Livia  33.0  175.0"
      ]
     },
     "execution_count": 19,
     "metadata": {},
     "output_type": "execute_result"
    }
   ],
   "source": [
    "df_final"
   ]
  },
  {
   "cell_type": "code",
   "execution_count": 21,
   "metadata": {},
   "outputs": [],
   "source": [
    "dfA = pd.DataFrame({\n",
    "    'CustomerName': ['Livia', 'Lias', 'Hans'],\n",
    "    'Age': [33, 30, 29]\n",
    "})\n"
   ]
  },
  {
   "cell_type": "code",
   "execution_count": 22,
   "metadata": {},
   "outputs": [],
   "source": [
    "dfB = pd.DataFrame({\n",
    "    'Name': ['Livia', 'Lias', 'Anja', 'Jens'],\n",
    "    'Size': [175, 185, 177, 165],\n",
    "    'Age': ['33 years', '30 years', '32 years', '35 years']\n",
    "})\n"
   ]
  },
  {
   "cell_type": "code",
   "execution_count": 23,
   "metadata": {},
   "outputs": [],
   "source": [
    "df_joined = dfA.set_index('CustomerName').join(\n",
    "    dfB.set_index('Name'),\n",
    "    how='outer',\n",
    "    lsuffix='_left'\n",
    ")\n"
   ]
  },
  {
   "cell_type": "code",
   "execution_count": 26,
   "metadata": {},
   "outputs": [],
   "source": [
    "df_final = df_joined.reset_index()\n"
   ]
  },
  {
   "cell_type": "code",
   "execution_count": 27,
   "metadata": {},
   "outputs": [
    {
     "data": {
      "text/html": [
       "<div>\n",
       "<style scoped>\n",
       "    .dataframe tbody tr th:only-of-type {\n",
       "        vertical-align: middle;\n",
       "    }\n",
       "\n",
       "    .dataframe tbody tr th {\n",
       "        vertical-align: top;\n",
       "    }\n",
       "\n",
       "    .dataframe thead th {\n",
       "        text-align: right;\n",
       "    }\n",
       "</style>\n",
       "<table border=\"1\" class=\"dataframe\">\n",
       "  <thead>\n",
       "    <tr style=\"text-align: right;\">\n",
       "      <th></th>\n",
       "      <th>index</th>\n",
       "      <th>Age_left</th>\n",
       "      <th>Size</th>\n",
       "      <th>Age</th>\n",
       "    </tr>\n",
       "  </thead>\n",
       "  <tbody>\n",
       "    <tr>\n",
       "      <th>0</th>\n",
       "      <td>Anja</td>\n",
       "      <td>NaN</td>\n",
       "      <td>177.0</td>\n",
       "      <td>32 years</td>\n",
       "    </tr>\n",
       "    <tr>\n",
       "      <th>1</th>\n",
       "      <td>Hans</td>\n",
       "      <td>29.0</td>\n",
       "      <td>NaN</td>\n",
       "      <td>NaN</td>\n",
       "    </tr>\n",
       "    <tr>\n",
       "      <th>2</th>\n",
       "      <td>Jens</td>\n",
       "      <td>NaN</td>\n",
       "      <td>165.0</td>\n",
       "      <td>35 years</td>\n",
       "    </tr>\n",
       "    <tr>\n",
       "      <th>3</th>\n",
       "      <td>Lias</td>\n",
       "      <td>30.0</td>\n",
       "      <td>185.0</td>\n",
       "      <td>30 years</td>\n",
       "    </tr>\n",
       "    <tr>\n",
       "      <th>4</th>\n",
       "      <td>Livia</td>\n",
       "      <td>33.0</td>\n",
       "      <td>175.0</td>\n",
       "      <td>33 years</td>\n",
       "    </tr>\n",
       "  </tbody>\n",
       "</table>\n",
       "</div>"
      ],
      "text/plain": [
       "   index  Age_left   Size       Age\n",
       "0   Anja       NaN  177.0  32 years\n",
       "1   Hans      29.0    NaN       NaN\n",
       "2   Jens       NaN  165.0  35 years\n",
       "3   Lias      30.0  185.0  30 years\n",
       "4  Livia      33.0  175.0  33 years"
      ]
     },
     "execution_count": 27,
     "metadata": {},
     "output_type": "execute_result"
    }
   ],
   "source": [
    "df_final"
   ]
  },
  {
   "cell_type": "code",
   "execution_count": 35,
   "metadata": {},
   "outputs": [],
   "source": [
    "df = pd.read_csv('price.csv')"
   ]
  },
  {
   "cell_type": "code",
   "execution_count": 47,
   "metadata": {},
   "outputs": [],
   "source": [
    "postcodes = pd.read_csv('postcodes.csv')"
   ]
  },
  {
   "cell_type": "code",
   "execution_count": 51,
   "metadata": {},
   "outputs": [],
   "source": [
    "postcodes['town'] = postcodes['town'].str.upper()"
   ]
  },
  {
   "cell_type": "code",
   "execution_count": 58,
   "metadata": {},
   "outputs": [],
   "source": [
    "postcodes.drop_duplicates(subset='town', inplace=True)"
   ]
  },
  {
   "cell_type": "code",
   "execution_count": 59,
   "metadata": {},
   "outputs": [],
   "source": [
    "df_joined = df.set_index('Town/City').join(postcodes.set_index('town'), how='inner')"
   ]
  },
  {
   "cell_type": "code",
   "execution_count": 54,
   "metadata": {},
   "outputs": [
    {
     "data": {
      "text/html": [
       "<div>\n",
       "<style scoped>\n",
       "    .dataframe tbody tr th:only-of-type {\n",
       "        vertical-align: middle;\n",
       "    }\n",
       "\n",
       "    .dataframe tbody tr th {\n",
       "        vertical-align: top;\n",
       "    }\n",
       "\n",
       "    .dataframe thead th {\n",
       "        text-align: right;\n",
       "    }\n",
       "</style>\n",
       "<table border=\"1\" class=\"dataframe\">\n",
       "  <thead>\n",
       "    <tr style=\"text-align: right;\">\n",
       "      <th></th>\n",
       "      <th>postcode</th>\n",
       "      <th>eastings</th>\n",
       "      <th>northings</th>\n",
       "      <th>latitude</th>\n",
       "      <th>longitude</th>\n",
       "      <th>town</th>\n",
       "      <th>region</th>\n",
       "      <th>uk_region</th>\n",
       "      <th>country</th>\n",
       "      <th>country_string</th>\n",
       "    </tr>\n",
       "  </thead>\n",
       "  <tbody>\n",
       "    <tr>\n",
       "      <th>0</th>\n",
       "      <td>AB10</td>\n",
       "      <td>392900</td>\n",
       "      <td>804900</td>\n",
       "      <td>57.13514</td>\n",
       "      <td>-2.11731</td>\n",
       "      <td>ABERDEEN</td>\n",
       "      <td>Aberdeen City</td>\n",
       "      <td>Scotland</td>\n",
       "      <td>SCT</td>\n",
       "      <td>Scotland</td>\n",
       "    </tr>\n",
       "    <tr>\n",
       "      <th>1</th>\n",
       "      <td>AB11</td>\n",
       "      <td>394500</td>\n",
       "      <td>805300</td>\n",
       "      <td>57.13875</td>\n",
       "      <td>-2.09089</td>\n",
       "      <td>ABERDEEN</td>\n",
       "      <td>Aberdeen City</td>\n",
       "      <td>Scotland</td>\n",
       "      <td>SCT</td>\n",
       "      <td>Scotland</td>\n",
       "    </tr>\n",
       "    <tr>\n",
       "      <th>2</th>\n",
       "      <td>AB12</td>\n",
       "      <td>393300</td>\n",
       "      <td>801100</td>\n",
       "      <td>57.10100</td>\n",
       "      <td>-2.11060</td>\n",
       "      <td>ABERDEEN</td>\n",
       "      <td>Aberdeen City</td>\n",
       "      <td>Scotland</td>\n",
       "      <td>SCT</td>\n",
       "      <td>Scotland</td>\n",
       "    </tr>\n",
       "    <tr>\n",
       "      <th>3</th>\n",
       "      <td>AB13</td>\n",
       "      <td>385600</td>\n",
       "      <td>801900</td>\n",
       "      <td>57.10801</td>\n",
       "      <td>-2.23776</td>\n",
       "      <td>MILLTIMBER</td>\n",
       "      <td>Aberdeen City</td>\n",
       "      <td>Scotland</td>\n",
       "      <td>SCT</td>\n",
       "      <td>Scotland</td>\n",
       "    </tr>\n",
       "    <tr>\n",
       "      <th>4</th>\n",
       "      <td>AB14</td>\n",
       "      <td>383600</td>\n",
       "      <td>801100</td>\n",
       "      <td>57.10076</td>\n",
       "      <td>-2.27073</td>\n",
       "      <td>PETERCULTER</td>\n",
       "      <td>Aberdeen City</td>\n",
       "      <td>Scotland</td>\n",
       "      <td>SCT</td>\n",
       "      <td>Scotland</td>\n",
       "    </tr>\n",
       "    <tr>\n",
       "      <th>...</th>\n",
       "      <td>...</td>\n",
       "      <td>...</td>\n",
       "      <td>...</td>\n",
       "      <td>...</td>\n",
       "      <td>...</td>\n",
       "      <td>...</td>\n",
       "      <td>...</td>\n",
       "      <td>...</td>\n",
       "      <td>...</td>\n",
       "      <td>...</td>\n",
       "    </tr>\n",
       "    <tr>\n",
       "      <th>2851</th>\n",
       "      <td>YO7</td>\n",
       "      <td>442400</td>\n",
       "      <td>481100</td>\n",
       "      <td>54.22370</td>\n",
       "      <td>-1.34960</td>\n",
       "      <td>SOWERBY</td>\n",
       "      <td>North Yorkshire</td>\n",
       "      <td>Yorkshire and the Humber</td>\n",
       "      <td>ENG</td>\n",
       "      <td>England</td>\n",
       "    </tr>\n",
       "    <tr>\n",
       "      <th>2852</th>\n",
       "      <td>YO8</td>\n",
       "      <td>462100</td>\n",
       "      <td>432100</td>\n",
       "      <td>53.78130</td>\n",
       "      <td>-1.05745</td>\n",
       "      <td>SELBY</td>\n",
       "      <td>North Yorkshire</td>\n",
       "      <td>Yorkshire and the Humber</td>\n",
       "      <td>ENG</td>\n",
       "      <td>England</td>\n",
       "    </tr>\n",
       "    <tr>\n",
       "      <th>2853</th>\n",
       "      <td>ZE1</td>\n",
       "      <td>446200</td>\n",
       "      <td>1141100</td>\n",
       "      <td>60.15232</td>\n",
       "      <td>-1.16779</td>\n",
       "      <td>SOUND</td>\n",
       "      <td>Shetland Islands</td>\n",
       "      <td>Scotland</td>\n",
       "      <td>SCT</td>\n",
       "      <td>Scotland</td>\n",
       "    </tr>\n",
       "    <tr>\n",
       "      <th>2854</th>\n",
       "      <td>ZE2</td>\n",
       "      <td>442800</td>\n",
       "      <td>1160900</td>\n",
       "      <td>60.33047</td>\n",
       "      <td>-1.22484</td>\n",
       "      <td>NaN</td>\n",
       "      <td>Shetland Islands</td>\n",
       "      <td>Scotland</td>\n",
       "      <td>SCT</td>\n",
       "      <td>Scotland</td>\n",
       "    </tr>\n",
       "    <tr>\n",
       "      <th>2855</th>\n",
       "      <td>ZE3</td>\n",
       "      <td>439000</td>\n",
       "      <td>1111100</td>\n",
       "      <td>59.88369</td>\n",
       "      <td>-1.30316</td>\n",
       "      <td>TOAB</td>\n",
       "      <td>Shetland Islands</td>\n",
       "      <td>Scotland</td>\n",
       "      <td>SCT</td>\n",
       "      <td>Scotland</td>\n",
       "    </tr>\n",
       "  </tbody>\n",
       "</table>\n",
       "<p>2856 rows × 10 columns</p>\n",
       "</div>"
      ],
      "text/plain": [
       "     postcode  eastings  northings  latitude  longitude         town  \\\n",
       "0        AB10    392900     804900  57.13514   -2.11731     ABERDEEN   \n",
       "1        AB11    394500     805300  57.13875   -2.09089     ABERDEEN   \n",
       "2        AB12    393300     801100  57.10100   -2.11060     ABERDEEN   \n",
       "3        AB13    385600     801900  57.10801   -2.23776   MILLTIMBER   \n",
       "4        AB14    383600     801100  57.10076   -2.27073  PETERCULTER   \n",
       "...       ...       ...        ...       ...        ...          ...   \n",
       "2851      YO7    442400     481100  54.22370   -1.34960      SOWERBY   \n",
       "2852      YO8    462100     432100  53.78130   -1.05745        SELBY   \n",
       "2853      ZE1    446200    1141100  60.15232   -1.16779        SOUND   \n",
       "2854      ZE2    442800    1160900  60.33047   -1.22484          NaN   \n",
       "2855      ZE3    439000    1111100  59.88369   -1.30316         TOAB   \n",
       "\n",
       "                region                 uk_region country country_string  \n",
       "0        Aberdeen City                  Scotland     SCT       Scotland  \n",
       "1        Aberdeen City                  Scotland     SCT       Scotland  \n",
       "2        Aberdeen City                  Scotland     SCT       Scotland  \n",
       "3        Aberdeen City                  Scotland     SCT       Scotland  \n",
       "4        Aberdeen City                  Scotland     SCT       Scotland  \n",
       "...                ...                       ...     ...            ...  \n",
       "2851   North Yorkshire  Yorkshire and the Humber     ENG        England  \n",
       "2852   North Yorkshire  Yorkshire and the Humber     ENG        England  \n",
       "2853  Shetland Islands                  Scotland     SCT       Scotland  \n",
       "2854  Shetland Islands                  Scotland     SCT       Scotland  \n",
       "2855  Shetland Islands                  Scotland     SCT       Scotland  \n",
       "\n",
       "[2856 rows x 10 columns]"
      ]
     },
     "execution_count": 54,
     "metadata": {},
     "output_type": "execute_result"
    }
   ],
   "source": [
    "postcodes"
   ]
  },
  {
   "cell_type": "code",
   "execution_count": 60,
   "metadata": {},
   "outputs": [
    {
     "data": {
      "text/html": [
       "<div>\n",
       "<style scoped>\n",
       "    .dataframe tbody tr th:only-of-type {\n",
       "        vertical-align: middle;\n",
       "    }\n",
       "\n",
       "    .dataframe tbody tr th {\n",
       "        vertical-align: top;\n",
       "    }\n",
       "\n",
       "    .dataframe thead th {\n",
       "        text-align: right;\n",
       "    }\n",
       "</style>\n",
       "<table border=\"1\" class=\"dataframe\">\n",
       "  <thead>\n",
       "    <tr style=\"text-align: right;\">\n",
       "      <th></th>\n",
       "      <th>Transaction unique identifier</th>\n",
       "      <th>Price</th>\n",
       "      <th>Date of Transfer</th>\n",
       "      <th>Property Type</th>\n",
       "      <th>Old/New</th>\n",
       "      <th>Duration</th>\n",
       "      <th>District</th>\n",
       "      <th>County</th>\n",
       "      <th>PPDCategory Type</th>\n",
       "      <th>Record Status - monthly file only</th>\n",
       "      <th>postcode</th>\n",
       "      <th>eastings</th>\n",
       "      <th>northings</th>\n",
       "      <th>latitude</th>\n",
       "      <th>longitude</th>\n",
       "      <th>region</th>\n",
       "      <th>uk_region</th>\n",
       "      <th>country</th>\n",
       "      <th>country_string</th>\n",
       "    </tr>\n",
       "    <tr>\n",
       "      <th>Town/City</th>\n",
       "      <th></th>\n",
       "      <th></th>\n",
       "      <th></th>\n",
       "      <th></th>\n",
       "      <th></th>\n",
       "      <th></th>\n",
       "      <th></th>\n",
       "      <th></th>\n",
       "      <th></th>\n",
       "      <th></th>\n",
       "      <th></th>\n",
       "      <th></th>\n",
       "      <th></th>\n",
       "      <th></th>\n",
       "      <th></th>\n",
       "      <th></th>\n",
       "      <th></th>\n",
       "      <th></th>\n",
       "      <th></th>\n",
       "    </tr>\n",
       "  </thead>\n",
       "  <tbody>\n",
       "    <tr>\n",
       "      <th>BEDWORTH</th>\n",
       "      <td>{BE54785D-4998-416B-BEBE-09C36BC9B3F9}</td>\n",
       "      <td>146500.0</td>\n",
       "      <td>2014-05-08</td>\n",
       "      <td>S</td>\n",
       "      <td>N</td>\n",
       "      <td>F</td>\n",
       "      <td>NUNEATON AND BEDWORTH</td>\n",
       "      <td>WARWICKSHIRE</td>\n",
       "      <td>A</td>\n",
       "      <td>A</td>\n",
       "      <td>CV12</td>\n",
       "      <td>435800</td>\n",
       "      <td>286400</td>\n",
       "      <td>52.47399</td>\n",
       "      <td>-1.47288</td>\n",
       "      <td>Warwickshire</td>\n",
       "      <td>West Midlands</td>\n",
       "      <td>ENG</td>\n",
       "      <td>England</td>\n",
       "    </tr>\n",
       "    <tr>\n",
       "      <th>DRIFFIELD</th>\n",
       "      <td>{9CDFEAB8-570E-45A9-AFF2-49BC8D07E7D0}</td>\n",
       "      <td>112000.0</td>\n",
       "      <td>2003-07-25</td>\n",
       "      <td>D</td>\n",
       "      <td>N</td>\n",
       "      <td>F</td>\n",
       "      <td>EAST RIDING OF YORKSHIRE</td>\n",
       "      <td>EAST RIDING OF YORKSHIRE</td>\n",
       "      <td>A</td>\n",
       "      <td>A</td>\n",
       "      <td>YO25</td>\n",
       "      <td>504000</td>\n",
       "      <td>457700</td>\n",
       "      <td>54.00465</td>\n",
       "      <td>-0.41302</td>\n",
       "      <td>East Riding of Yorkshire</td>\n",
       "      <td>Yorkshire and the Humber</td>\n",
       "      <td>ENG</td>\n",
       "      <td>England</td>\n",
       "    </tr>\n",
       "    <tr>\n",
       "      <th>LIFTON</th>\n",
       "      <td>{31E13531-05A5-4B8A-83E5-8C1FAE43FD78}</td>\n",
       "      <td>105000.0</td>\n",
       "      <td>2002-05-17</td>\n",
       "      <td>D</td>\n",
       "      <td>N</td>\n",
       "      <td>F</td>\n",
       "      <td>WEST DEVON</td>\n",
       "      <td>DEVON</td>\n",
       "      <td>A</td>\n",
       "      <td>A</td>\n",
       "      <td>PL16</td>\n",
       "      <td>239700</td>\n",
       "      <td>85400</td>\n",
       "      <td>50.64562</td>\n",
       "      <td>-4.26757</td>\n",
       "      <td>Devon</td>\n",
       "      <td>South West England</td>\n",
       "      <td>ENG</td>\n",
       "      <td>England</td>\n",
       "    </tr>\n",
       "    <tr>\n",
       "      <th>WORTHING</th>\n",
       "      <td>{BE337F98-0CAE-4002-BFCE-7E2F556F1EAD}</td>\n",
       "      <td>144000.0</td>\n",
       "      <td>2014-01-24</td>\n",
       "      <td>F</td>\n",
       "      <td>N</td>\n",
       "      <td>L</td>\n",
       "      <td>WORTHING</td>\n",
       "      <td>WEST SUSSEX</td>\n",
       "      <td>A</td>\n",
       "      <td>A</td>\n",
       "      <td>BN11</td>\n",
       "      <td>514400</td>\n",
       "      <td>102800</td>\n",
       "      <td>50.81288</td>\n",
       "      <td>-0.37599</td>\n",
       "      <td>West Sussex</td>\n",
       "      <td>South East England</td>\n",
       "      <td>ENG</td>\n",
       "      <td>England</td>\n",
       "    </tr>\n",
       "    <tr>\n",
       "      <th>FALMOUTH</th>\n",
       "      <td>{BE91801C-9C55-4C20-8C1F-9D28E240F1DC}</td>\n",
       "      <td>56950.0</td>\n",
       "      <td>1996-08-30</td>\n",
       "      <td>F</td>\n",
       "      <td>Y</td>\n",
       "      <td>L</td>\n",
       "      <td>CARRICK</td>\n",
       "      <td>CORNWALL</td>\n",
       "      <td>A</td>\n",
       "      <td>A</td>\n",
       "      <td>TR11</td>\n",
       "      <td>179500</td>\n",
       "      <td>32300</td>\n",
       "      <td>50.14907</td>\n",
       "      <td>-5.08684</td>\n",
       "      <td>Cornwall</td>\n",
       "      <td>South West England</td>\n",
       "      <td>ENG</td>\n",
       "      <td>England</td>\n",
       "    </tr>\n",
       "    <tr>\n",
       "      <th>...</th>\n",
       "      <td>...</td>\n",
       "      <td>...</td>\n",
       "      <td>...</td>\n",
       "      <td>...</td>\n",
       "      <td>...</td>\n",
       "      <td>...</td>\n",
       "      <td>...</td>\n",
       "      <td>...</td>\n",
       "      <td>...</td>\n",
       "      <td>...</td>\n",
       "      <td>...</td>\n",
       "      <td>...</td>\n",
       "      <td>...</td>\n",
       "      <td>...</td>\n",
       "      <td>...</td>\n",
       "      <td>...</td>\n",
       "      <td>...</td>\n",
       "      <td>...</td>\n",
       "      <td>...</td>\n",
       "    </tr>\n",
       "    <tr>\n",
       "      <th>TAMWORTH</th>\n",
       "      <td>{50F18103-6E60-9FD5-E050-A8C063054923}</td>\n",
       "      <td>169950.0</td>\n",
       "      <td>2017-04-28</td>\n",
       "      <td>S</td>\n",
       "      <td>N</td>\n",
       "      <td>F</td>\n",
       "      <td>TAMWORTH</td>\n",
       "      <td>STAFFORDSHIRE</td>\n",
       "      <td>A</td>\n",
       "      <td>A</td>\n",
       "      <td>B77</td>\n",
       "      <td>422500</td>\n",
       "      <td>302400</td>\n",
       "      <td>52.61855</td>\n",
       "      <td>-1.66762</td>\n",
       "      <td>Staffordshire</td>\n",
       "      <td>West Midlands</td>\n",
       "      <td>ENG</td>\n",
       "      <td>England</td>\n",
       "    </tr>\n",
       "    <tr>\n",
       "      <th>CROYDON</th>\n",
       "      <td>{3449EB24-290D-46BB-968A-2C2D770A59A9}</td>\n",
       "      <td>236500.0</td>\n",
       "      <td>2008-02-14</td>\n",
       "      <td>T</td>\n",
       "      <td>N</td>\n",
       "      <td>F</td>\n",
       "      <td>CROYDON</td>\n",
       "      <td>GREATER LONDON</td>\n",
       "      <td>A</td>\n",
       "      <td>A</td>\n",
       "      <td>CR0</td>\n",
       "      <td>534000</td>\n",
       "      <td>165500</td>\n",
       "      <td>51.37223</td>\n",
       "      <td>-0.07463</td>\n",
       "      <td>Greater London</td>\n",
       "      <td>London</td>\n",
       "      <td>ENG</td>\n",
       "      <td>England</td>\n",
       "    </tr>\n",
       "    <tr>\n",
       "      <th>KINGSTON UPON THAMES</th>\n",
       "      <td>{2BBBD15E-1525-4B60-AEDA-E1133CD07F5C}</td>\n",
       "      <td>94950.0</td>\n",
       "      <td>1997-03-20</td>\n",
       "      <td>F</td>\n",
       "      <td>N</td>\n",
       "      <td>L</td>\n",
       "      <td>KINGSTON UPON THAMES</td>\n",
       "      <td>GREATER LONDON</td>\n",
       "      <td>A</td>\n",
       "      <td>A</td>\n",
       "      <td>KT1</td>\n",
       "      <td>518500</td>\n",
       "      <td>169000</td>\n",
       "      <td>51.40713</td>\n",
       "      <td>-0.29606</td>\n",
       "      <td>Greater London</td>\n",
       "      <td>London</td>\n",
       "      <td>ENG</td>\n",
       "      <td>England</td>\n",
       "    </tr>\n",
       "    <tr>\n",
       "      <th>MANSFIELD</th>\n",
       "      <td>{A0481FA5-4482-459E-814B-E10FFCC85A1F}</td>\n",
       "      <td>35500.0</td>\n",
       "      <td>1996-06-21</td>\n",
       "      <td>S</td>\n",
       "      <td>N</td>\n",
       "      <td>F</td>\n",
       "      <td>MANSFIELD</td>\n",
       "      <td>NOTTINGHAMSHIRE</td>\n",
       "      <td>A</td>\n",
       "      <td>A</td>\n",
       "      <td>NG18</td>\n",
       "      <td>454600</td>\n",
       "      <td>360400</td>\n",
       "      <td>53.13766</td>\n",
       "      <td>-1.18373</td>\n",
       "      <td>Nottinghamshire</td>\n",
       "      <td>East Midlands</td>\n",
       "      <td>ENG</td>\n",
       "      <td>England</td>\n",
       "    </tr>\n",
       "    <tr>\n",
       "      <th>LIPHOOK</th>\n",
       "      <td>{DE747E47-7536-4494-BE51-432CE1A0C1DA}</td>\n",
       "      <td>400000.0</td>\n",
       "      <td>2000-12-20</td>\n",
       "      <td>D</td>\n",
       "      <td>Y</td>\n",
       "      <td>F</td>\n",
       "      <td>EAST HAMPSHIRE</td>\n",
       "      <td>HAMPSHIRE</td>\n",
       "      <td>A</td>\n",
       "      <td>A</td>\n",
       "      <td>GU30</td>\n",
       "      <td>483900</td>\n",
       "      <td>131300</td>\n",
       "      <td>51.07435</td>\n",
       "      <td>-0.80228</td>\n",
       "      <td>Hampshire</td>\n",
       "      <td>South East England</td>\n",
       "      <td>ENG</td>\n",
       "      <td>England</td>\n",
       "    </tr>\n",
       "  </tbody>\n",
       "</table>\n",
       "<p>24642 rows × 19 columns</p>\n",
       "</div>"
      ],
      "text/plain": [
       "                               Transaction unique identifier     Price  \\\n",
       "Town/City                                                                \n",
       "BEDWORTH              {BE54785D-4998-416B-BEBE-09C36BC9B3F9}  146500.0   \n",
       "DRIFFIELD             {9CDFEAB8-570E-45A9-AFF2-49BC8D07E7D0}  112000.0   \n",
       "LIFTON                {31E13531-05A5-4B8A-83E5-8C1FAE43FD78}  105000.0   \n",
       "WORTHING              {BE337F98-0CAE-4002-BFCE-7E2F556F1EAD}  144000.0   \n",
       "FALMOUTH              {BE91801C-9C55-4C20-8C1F-9D28E240F1DC}   56950.0   \n",
       "...                                                      ...       ...   \n",
       "TAMWORTH              {50F18103-6E60-9FD5-E050-A8C063054923}  169950.0   \n",
       "CROYDON               {3449EB24-290D-46BB-968A-2C2D770A59A9}  236500.0   \n",
       "KINGSTON UPON THAMES  {2BBBD15E-1525-4B60-AEDA-E1133CD07F5C}   94950.0   \n",
       "MANSFIELD             {A0481FA5-4482-459E-814B-E10FFCC85A1F}   35500.0   \n",
       "LIPHOOK               {DE747E47-7536-4494-BE51-432CE1A0C1DA}  400000.0   \n",
       "\n",
       "                     Date of Transfer Property Type Old/New Duration  \\\n",
       "Town/City                                                              \n",
       "BEDWORTH                   2014-05-08             S       N        F   \n",
       "DRIFFIELD                  2003-07-25             D       N        F   \n",
       "LIFTON                     2002-05-17             D       N        F   \n",
       "WORTHING                   2014-01-24             F       N        L   \n",
       "FALMOUTH                   1996-08-30             F       Y        L   \n",
       "...                               ...           ...     ...      ...   \n",
       "TAMWORTH                   2017-04-28             S       N        F   \n",
       "CROYDON                    2008-02-14             T       N        F   \n",
       "KINGSTON UPON THAMES       1997-03-20             F       N        L   \n",
       "MANSFIELD                  1996-06-21             S       N        F   \n",
       "LIPHOOK                    2000-12-20             D       Y        F   \n",
       "\n",
       "                                      District                    County  \\\n",
       "Town/City                                                                  \n",
       "BEDWORTH                 NUNEATON AND BEDWORTH              WARWICKSHIRE   \n",
       "DRIFFIELD             EAST RIDING OF YORKSHIRE  EAST RIDING OF YORKSHIRE   \n",
       "LIFTON                              WEST DEVON                     DEVON   \n",
       "WORTHING                              WORTHING               WEST SUSSEX   \n",
       "FALMOUTH                               CARRICK                  CORNWALL   \n",
       "...                                        ...                       ...   \n",
       "TAMWORTH                              TAMWORTH             STAFFORDSHIRE   \n",
       "CROYDON                                CROYDON            GREATER LONDON   \n",
       "KINGSTON UPON THAMES      KINGSTON UPON THAMES            GREATER LONDON   \n",
       "MANSFIELD                            MANSFIELD           NOTTINGHAMSHIRE   \n",
       "LIPHOOK                         EAST HAMPSHIRE                 HAMPSHIRE   \n",
       "\n",
       "                     PPDCategory Type Record Status - monthly file only  \\\n",
       "Town/City                                                                 \n",
       "BEDWORTH                            A                                 A   \n",
       "DRIFFIELD                           A                                 A   \n",
       "LIFTON                              A                                 A   \n",
       "WORTHING                            A                                 A   \n",
       "FALMOUTH                            A                                 A   \n",
       "...                               ...                               ...   \n",
       "TAMWORTH                            A                                 A   \n",
       "CROYDON                             A                                 A   \n",
       "KINGSTON UPON THAMES                A                                 A   \n",
       "MANSFIELD                           A                                 A   \n",
       "LIPHOOK                             A                                 A   \n",
       "\n",
       "                     postcode  eastings  northings  latitude  longitude  \\\n",
       "Town/City                                                                 \n",
       "BEDWORTH                 CV12    435800     286400  52.47399   -1.47288   \n",
       "DRIFFIELD                YO25    504000     457700  54.00465   -0.41302   \n",
       "LIFTON                   PL16    239700      85400  50.64562   -4.26757   \n",
       "WORTHING                 BN11    514400     102800  50.81288   -0.37599   \n",
       "FALMOUTH                 TR11    179500      32300  50.14907   -5.08684   \n",
       "...                       ...       ...        ...       ...        ...   \n",
       "TAMWORTH                  B77    422500     302400  52.61855   -1.66762   \n",
       "CROYDON                   CR0    534000     165500  51.37223   -0.07463   \n",
       "KINGSTON UPON THAMES      KT1    518500     169000  51.40713   -0.29606   \n",
       "MANSFIELD                NG18    454600     360400  53.13766   -1.18373   \n",
       "LIPHOOK                  GU30    483900     131300  51.07435   -0.80228   \n",
       "\n",
       "                                        region                 uk_region  \\\n",
       "Town/City                                                                  \n",
       "BEDWORTH                          Warwickshire             West Midlands   \n",
       "DRIFFIELD             East Riding of Yorkshire  Yorkshire and the Humber   \n",
       "LIFTON                                   Devon        South West England   \n",
       "WORTHING                           West Sussex        South East England   \n",
       "FALMOUTH                              Cornwall        South West England   \n",
       "...                                        ...                       ...   \n",
       "TAMWORTH                         Staffordshire             West Midlands   \n",
       "CROYDON                         Greater London                    London   \n",
       "KINGSTON UPON THAMES            Greater London                    London   \n",
       "MANSFIELD                      Nottinghamshire             East Midlands   \n",
       "LIPHOOK                              Hampshire        South East England   \n",
       "\n",
       "                     country country_string  \n",
       "Town/City                                    \n",
       "BEDWORTH                 ENG        England  \n",
       "DRIFFIELD                ENG        England  \n",
       "LIFTON                   ENG        England  \n",
       "WORTHING                 ENG        England  \n",
       "FALMOUTH                 ENG        England  \n",
       "...                      ...            ...  \n",
       "TAMWORTH                 ENG        England  \n",
       "CROYDON                  ENG        England  \n",
       "KINGSTON UPON THAMES     ENG        England  \n",
       "MANSFIELD                ENG        England  \n",
       "LIPHOOK                  ENG        England  \n",
       "\n",
       "[24642 rows x 19 columns]"
      ]
     },
     "execution_count": 60,
     "metadata": {},
     "output_type": "execute_result"
    }
   ],
   "source": [
    "df_joined"
   ]
  },
  {
   "cell_type": "code",
   "execution_count": 63,
   "metadata": {},
   "outputs": [],
   "source": [
    "green = df_joined.loc[df_joined['longitude'] > 0].shape[0]"
   ]
  },
  {
   "cell_type": "code",
   "execution_count": 66,
   "metadata": {},
   "outputs": [],
   "source": [
    "total = df_joined.shape[0]"
   ]
  },
  {
   "cell_type": "code",
   "execution_count": 67,
   "metadata": {},
   "outputs": [],
   "source": [
    "percent = green / total * 100"
   ]
  },
  {
   "cell_type": "code",
   "execution_count": 68,
   "metadata": {},
   "outputs": [
    {
     "name": "stdout",
     "output_type": "stream",
     "text": [
      "Price of East Greenwich(in percentage) is 21.832643454265078% \n"
     ]
    }
   ],
   "source": [
    "print(f'Price of East Greenwich(in percentage) is {percent}% ')"
   ]
  },
  {
   "cell_type": "code",
   "execution_count": 69,
   "metadata": {},
   "outputs": [
    {
     "name": "stdout",
     "output_type": "stream",
     "text": [
      "        Name  Age\n",
      "rank1    Tom   28\n",
      "rank2   Jack   34\n",
      "rank3  Steve   29\n",
      "rank4  Ricky   42\n",
      "   index   Name  Age\n",
      "0  rank1    Tom   28\n",
      "1  rank2   Jack   34\n",
      "2  rank3  Steve   29\n",
      "3  rank4  Ricky   42\n",
      "        Name  Age\n",
      "rank1    Tom   28\n",
      "rank2   Jack   34\n",
      "rank3  Steve   29\n",
      "rank4  Ricky   42\n",
      "    Name  Age\n",
      "0    Tom   28\n",
      "1   Jack   34\n",
      "2  Steve   29\n",
      "3  Ricky   42\n"
     ]
    }
   ],
   "source": [
    "import pandas as pd\n",
    "data2 = {'Name':['Tom', 'Jack', 'Steve',\n",
    "'Ricky'],'Age':[28,34,29,42]}\n",
    "df = pd.DataFrame(data2,\n",
    "index=['rank1','rank2','rank3','rank4'])\n",
    "print(df)\n",
    "df=df.reset_index()\n",
    "print(df)\n",
    "df = pd.DataFrame(data2,\n",
    "index=['rank1','rank2','rank3','rank4'])\n",
    "print(df)\n",
    "df = pd.DataFrame(data2)\n",
    "print(df)"
   ]
  },
  {
   "cell_type": "code",
   "execution_count": 70,
   "metadata": {},
   "outputs": [
    {
     "data": {
      "text/html": [
       "<div>\n",
       "<style scoped>\n",
       "    .dataframe tbody tr th:only-of-type {\n",
       "        vertical-align: middle;\n",
       "    }\n",
       "\n",
       "    .dataframe tbody tr th {\n",
       "        vertical-align: top;\n",
       "    }\n",
       "\n",
       "    .dataframe thead th {\n",
       "        text-align: right;\n",
       "    }\n",
       "</style>\n",
       "<table border=\"1\" class=\"dataframe\">\n",
       "  <thead>\n",
       "    <tr style=\"text-align: right;\">\n",
       "      <th></th>\n",
       "      <th>Name</th>\n",
       "    </tr>\n",
       "  </thead>\n",
       "  <tbody>\n",
       "    <tr>\n",
       "      <th>0</th>\n",
       "      <td>Tom</td>\n",
       "    </tr>\n",
       "    <tr>\n",
       "      <th>1</th>\n",
       "      <td>Jack</td>\n",
       "    </tr>\n",
       "    <tr>\n",
       "      <th>2</th>\n",
       "      <td>Steve</td>\n",
       "    </tr>\n",
       "    <tr>\n",
       "      <th>3</th>\n",
       "      <td>Ricky</td>\n",
       "    </tr>\n",
       "  </tbody>\n",
       "</table>\n",
       "</div>"
      ],
      "text/plain": [
       "    Name\n",
       "0    Tom\n",
       "1   Jack\n",
       "2  Steve\n",
       "3  Ricky"
      ]
     },
     "execution_count": 70,
     "metadata": {},
     "output_type": "execute_result"
    }
   ],
   "source": [
    "df.loc[:, df.dtypes==object].head()"
   ]
  },
  {
   "cell_type": "code",
   "execution_count": 71,
   "metadata": {},
   "outputs": [
    {
     "ename": "NameError",
     "evalue": "name 'data' is not defined",
     "output_type": "error",
     "traceback": [
      "\u001b[31m---------------------------------------------------------------------------\u001b[39m",
      "\u001b[31mNameError\u001b[39m                                 Traceback (most recent call last)",
      "\u001b[36mCell\u001b[39m\u001b[36m \u001b[39m\u001b[32mIn[71]\u001b[39m\u001b[32m, line 1\u001b[39m\n\u001b[32m----> \u001b[39m\u001b[32m1\u001b[39m \u001b[43mdata\u001b[49m.columns[data.dtypes==\u001b[38;5;28mobject\u001b[39m]\n",
      "\u001b[31mNameError\u001b[39m: name 'data' is not defined"
     ]
    }
   ],
   "source": []
  },
  {
   "cell_type": "code",
   "execution_count": 5,
   "metadata": {},
   "outputs": [],
   "source": [
    "import matplotlib.pyplot as plt\n",
    "import numpy as np"
   ]
  },
  {
   "cell_type": "code",
   "execution_count": 8,
   "metadata": {},
   "outputs": [
    {
     "data": {
      "text/plain": [
       "<Figure size 800x800 with 0 Axes>"
      ]
     },
     "execution_count": 8,
     "metadata": {},
     "output_type": "execute_result"
    },
    {
     "data": {
      "text/plain": [
       "<Figure size 800x800 with 0 Axes>"
      ]
     },
     "metadata": {},
     "output_type": "display_data"
    }
   ],
   "source": [
    "plt.figure(figsize= (8,8))"
   ]
  },
  {
   "cell_type": "code",
   "execution_count": 9,
   "metadata": {},
   "outputs": [
    {
     "name": "stderr",
     "output_type": "stream",
     "text": [
      "/var/folders/z2/rmvv1qt937g_5bp6hf_qfy7h0000gn/T/ipykernel_9021/4216817608.py:7: UserWarning: FigureCanvasAgg is non-interactive, and thus cannot be shown\n",
      "  fig.show()\n"
     ]
    },
    {
     "data": {
      "image/png": "[encoded data removed]",
      "text/plain": [
       "<Figure size 640x480 with 1 Axes>"
      ]
     },
     "metadata": {},
     "output_type": "display_data"
    }
   ],
   "source": [
    "x=np.arange(5)\n",
    "y=x**2\n",
    "plt.plot(x,y)\n",
    "fig=plt.gcf()#get current figure\n",
    "ax=plt.gca()#get current axis\n",
    "ax.scatter(x,y+2)\n",
    "fig.show()"
   ]
  },
  {
   "cell_type": "code",
   "execution_count": 12,
   "metadata": {},
   "outputs": [
    {
     "data": {
      "text/plain": [
       "<matplotlib.collections.PathCollection at 0x11296d090>"
      ]
     },
     "execution_count": 12,
     "metadata": {},
     "output_type": "execute_result"
    },
    {
     "data": {
      "image/png": "[encoded data removed]",
      "text/plain": [
       "<Figure size 640x480 with 1 Axes>"
      ]
     },
     "metadata": {},
     "output_type": "display_data"
    }
   ],
   "source": [
    "\n",
    "fig, axes = plt.subplots()\n",
    "axes.plot(x,y)\n",
    "axes.scatter(x,y+2)"
   ]
  },
  {
   "cell_type": "code",
   "execution_count": 13,
   "metadata": {},
   "outputs": [
    {
     "name": "stderr",
     "output_type": "stream",
     "text": [
      "/var/folders/z2/rmvv1qt937g_5bp6hf_qfy7h0000gn/T/ipykernel_9021/2053120018.py:9: UserWarning: FigureCanvasAgg is non-interactive, and thus cannot be shown\n",
      "  fig.show()\n"
     ]
    },
    {
     "data": {
      "image/png": "[encoded data removed]",
      "text/plain": [
       "<Figure size 640x480 with 1 Axes>"
      ]
     },
     "metadata": {},
     "output_type": "display_data"
    }
   ],
   "source": [
    "import matplotlib.pyplot as plt\n",
    "x = [i for i in range(1,10)]\n",
    "#note, list comprehension not needed for x\n",
    "y = [i**2 for i in x]\n",
    "z = [i*3 for i in x]\n",
    "fig=plt.figure()\n",
    "plt.scatter(x,y)\n",
    "plt.scatter(x,z)\n",
    "fig.show()\n",
    "#ax_list = fig.axes"
   ]
  },
  {
   "cell_type": "code",
   "execution_count": null,
   "metadata": {},
   "outputs": [],
   "source": []
  }
 ],
 "metadata": {
  "kernelspec": {
   "display_name": "Python 3",
   "language": "python",
   "name": "python3"
  },
  "language_info": {
   "codemirror_mode": {
    "name": "ipython",
    "version": 3
   },
   "file_extension": ".py",
   "mimetype": "text/x-python",
   "name": "python",
   "nbconvert_exporter": "python",
   "pygments_lexer": "ipython3",
   "version": "3.13.3"
  }
 },
 "nbformat": 4,
 "nbformat_minor": 2
}
